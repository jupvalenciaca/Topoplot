{
 "cells": [
  {
   "cell_type": "markdown",
   "metadata": {},
   "source": [
    "# TOPOPLOT"
   ]
  },
  {
   "cell_type": "markdown",
   "metadata": {},
   "source": [
    "Script para el cálculo y visualización del topoplot de un paciente a partir de un archivo .edf"
   ]
  },
  {
   "cell_type": "markdown",
   "metadata": {},
   "source": [
    "## Resumen"
   ]
  },
  {
   "cell_type": "markdown",
   "metadata": {},
   "source": [
    "En este script se realizan los cálculos de la potencia de la señal, la ubicación de los electrodos de la medición según el modelo New York, para finalmente realizar el topoplot por medio de la biblioteca \"MNE\" [1]"
   ]
  },
  {
   "cell_type": "markdown",
   "metadata": {},
   "source": [
    "## Entradas"
   ]
  },
  {
   "cell_type": "markdown",
   "metadata": {},
   "source": [
    "Por medio de argparse se definen las siguientes entradas."
   ]
  },
  {
   "cell_type": "markdown",
   "metadata": {},
   "source": [
    "1) -i o --archivo: nombre del archivo .edf que desea utilizar, es de tipo str, ejemplo: -i sujeto_base.edf"
   ]
  },
  {
   "cell_type": "markdown",
   "metadata": {},
   "source": [
    "2) -o o --figure: nombre y dirección para guardar el topoplot, ejemplo -o pictures/figure"
   ]
  },
  {
   "cell_type": "markdown",
   "metadata": {},
   "source": [
    "3) -c o --config: nombre del archivo de configuración, éste debe incluir las siguientes dos variables: \n",
    "3.1) labels: de tipo lista, incluye el nombre de los electrodos según el modelo que se desea utilizar, por default se utiliza el modelo New York.\n",
    "3.2) elec: array con las coordenadas de los electrodos según el modelo que se desea utilizar, por default se utiliza el modelo New York. sus dimensiones son el número de electrodos x 2. Debe ser de la misma longitud de la cantidad de elementos de \"labels\"\n",
    "\n",
    "Ejemplo: -c config\n"
   ]
  },
  {
   "cell_type": "markdown",
   "metadata": {},
   "source": [
    "## Salidas"
   ]
  },
  {
   "cell_type": "markdown",
   "metadata": {},
   "source": [
    "1) fig: imagen con el topoplot para el archivo .edf"
   ]
  },
  {
   "cell_type": "markdown",
   "metadata": {},
   "source": [
    "## Código"
   ]
  },
  {
   "cell_type": "markdown",
   "metadata": {},
   "source": [
    "Como una breve descripción del código se puede decir que se comienza con la importación de todas las biliotecas necesarias, además de la definición de la clase general que incluye métodos comentados al principio de cada uno para cada sección del código. Finalmente se define el objeto y se realiza el llamado de los métodos."
   ]
  },
  {
   "cell_type": "code",
   "execution_count": null,
   "metadata": {},
   "outputs": [],
   "source": [
    "from topoplot import edf_topoplot\n",
    "ob = edf_topoplot()\n",
    "arc,output,config = ob.argparse()\n",
    "signal,nch,channels_labels = ob.read_edf(arc)\n",
    "pot_signal = ob.calc_power(signal)\n",
    "pos, pot_signal, elec= ob.calc_positions(config,channels_labels,nch,pot_signal)\n",
    "grid, pos = ob.interpolation(pot_signal,pos,elec)\n",
    "fig = ob.topoplot(pot_signal,elec)\n",
    "_ = ob.mesh(pos,elec)\n",
    "\n",
    "\n",
    "\n",
    "\t#python topoplot.py -i sujeto_base.edf -o fig3 -c config"
   ]
  },
  {
   "cell_type": "markdown",
   "metadata": {},
   "source": [
    "## Bibliotecas utilizadas"
   ]
  },
  {
   "cell_type": "markdown",
   "metadata": {},
   "source": [
    "[1] MNE        http://www.martinos.org/mne/"
   ]
  },
  {
   "cell_type": "markdown",
   "metadata": {},
   "source": [
    "[2] pyedflib   http://pyedflib.readthedocs.io"
   ]
  },
  {
   "cell_type": "markdown",
   "metadata": {},
   "source": [
    "[3] Numpy      http://www.numpy.org/"
   ]
  },
  {
   "cell_type": "markdown",
   "metadata": {},
   "source": [
    "[4] Argparse   https://docs.python.org/3/library/argparse.html"
   ]
  },
  {
   "cell_type": "markdown",
   "metadata": {},
   "source": [
    "[5] Scipy      http://www.scipy.org"
   ]
  },
  {
   "cell_type": "markdown",
   "metadata": {},
   "source": [
    "[6] Matplotlib http://www.matplotlib.org"
   ]
  }
 ],
 "metadata": {
  "kernelspec": {
   "display_name": "Python 3",
   "language": "python",
   "name": "python3"
  },
  "language_info": {
   "codemirror_mode": {
    "name": "ipython",
    "version": 3
   },
   "file_extension": ".py",
   "mimetype": "text/x-python",
   "name": "python",
   "nbconvert_exporter": "python",
   "pygments_lexer": "ipython3",
   "version": "3.6.5"
  }
 },
 "nbformat": 4,
 "nbformat_minor": 2
}
