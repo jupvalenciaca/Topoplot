{
 "cells": [
  {
   "cell_type": "markdown",
   "metadata": {
    "slideshow": {
     "slide_type": "notes"
    }
   },
   "source": [
    "# Topoplot"
   ]
  },
  {
   "cell_type": "markdown",
   "metadata": {
    "slideshow": {
     "slide_type": "notes"
    }
   },
   "source": [
    "Script para el cálculo y visualización del topoplot de un paciente a partir de un archivo .edf"
   ]
  },
  {
   "cell_type": "markdown",
   "metadata": {
    "slideshow": {
     "slide_type": "notes"
    }
   },
   "source": [
    "Lo primero que se hace es importar los módulos necesarios para el topoplot"
   ]
  },
  {
   "cell_type": "code",
   "execution_count": null,
   "metadata": {
    "scrolled": false
   },
   "outputs": [],
   "source": [
    "import pyedflib\n",
    "import numpy as np\n",
    "import matplotlib.pyplot as plt\n",
    "from mne.viz import plot_topomap\n",
    "import scipy.io\n",
    "from scipy.interpolate import griddata\n",
    "from config import elec"
   ]
  },
  {
   "cell_type": "markdown",
   "metadata": {
    "slideshow": {
     "slide_type": "notes"
    }
   },
   "source": [
    "Se inicia la clase"
   ]
  },
  {
   "cell_type": "code",
   "execution_count": null,
   "metadata": {},
   "outputs": [],
   "source": [
    "class edf_topoplot(object):\n",
    "    \n",
    "    def __init__(self,):\n",
    "        super(edf_topoplot, self).__init__()"
   ]
  },
  {
   "cell_type": "markdown",
   "metadata": {},
   "source": [
    "El siguiente método lee el archivo .edf y extrae la información principal de éste"
   ]
  },
  {
   "cell_type": "code",
   "execution_count": null,
   "metadata": {},
   "outputs": [],
   "source": [
    "    def read_edf(self,archivo):\n",
    "\n",
    "        edf = pyedflib.EdfReader(archivo) #archivo edf\n",
    "        channels_labels = edf.getSignalLabels() #etiquetas de los canales\n",
    "        nsig = edf.getNSamples()[0] #longitud de la toma\n",
    "        nch  = edf.signals_in_file #numero de canales\n",
    "        signal = np.zeros((nch,nsig))\n",
    "        for x in range(nch):\n",
    "            signal[x,:] = edf.readSignal(x)\t\n",
    "        return nch,edf,channels_labels, signal"
   ]
  },
  {
   "cell_type": "markdown",
   "metadata": {},
   "source": [
    "El siguiente método calcula la potencia y las posiciones de los electrodos"
   ]
  },
  {
   "cell_type": "code",
   "execution_count": null,
   "metadata": {},
   "outputs": [],
   "source": [
    "    def cal_topoplot(self,nch,elec,channels_labels,signal):"
   ]
  },
  {
   "cell_type": "markdown",
   "metadata": {},
   "source": [
    "Se comienza con la potencia de la señal"
   ]
  },
  {
   "cell_type": "code",
   "execution_count": null,
   "metadata": {},
   "outputs": [],
   "source": [
    "        magnitud = signal**2\n",
    "        pot_signal = np.mean(magnitud,axis=1)"
   ]
  },
  {
   "cell_type": "markdown",
   "metadata": {},
   "source": [
    "Se extraen las etiquetas de un archivo de configuración donde se especifican las posibles ubicaciones de los electrodos"
   ]
  },
  {
   "cell_type": "code",
   "execution_count": null,
   "metadata": {},
   "outputs": [],
   "source": [
    "        lab_ref_list = elec.keys()\t#lista etiquetas de referencia        \n",
    "        label_ref_list = []\n",
    "\n",
    "        #organiza la lista de etiquetas de referencia para ser comparada\n",
    "        for lab_ref in lab_ref_list:\n",
    "            label_ref = lab_ref.upper()\n",
    "            label_ref_list.append(label_ref)"
   ]
  },
  {
   "cell_type": "markdown",
   "metadata": {},
   "source": [
    "Se organiza la lista de etiquetas de la medición para ser comparada"
   ]
  },
  {
   "cell_type": "code",
   "execution_count": null,
   "metadata": {},
   "outputs": [],
   "source": [
    "        pos = np.zeros(shape=(nch,2))\n",
    "        count =-1\n",
    "        for lab in channels_labels:\n",
    "            labe = lab.upper()\n",
    "            label1 = labe.find('-')\n",
    "            label = labe[0:label1]\n",
    "            exist = label in label_ref_list\n",
    "            count += 1"
   ]
  },
  {
   "cell_type": "markdown",
   "metadata": {},
   "source": [
    "crea un np.ndarray con las coordenadas de los electrodos existentes en la medida"
   ]
  },
  {
   "cell_type": "code",
   "execution_count": null,
   "metadata": {},
   "outputs": [],
   "source": [
    "            if exist is True:\n",
    "                coord = elec[label]\n",
    "                pos[count,:] = coord\n",
    "                coord = np.asarray(coord)\n",
    "        counter = -1"
   ]
  },
  {
   "cell_type": "markdown",
   "metadata": {},
   "source": [
    "Se eliminan los electrodos que no fueron encontrados en la lista de referencia"
   ]
  },
  {
   "cell_type": "code",
   "execution_count": null,
   "metadata": {},
   "outputs": [],
   "source": [
    "        for coord in pos:\n",
    "            counter += 1\n",
    "            check = np.array_equal(coord,[0.,0.])\n",
    "            if check == True:\n",
    "                pos = np.delete(pos,counter,0)\n",
    "                pot_signal = np.delete(pot_signal,counter,0)\n",
    "                counter += -1"
   ]
  },
  {
   "cell_type": "markdown",
   "metadata": {},
   "source": [
    "Finalmente se imprime y se retorna la potencia y las coordenadas de los electrodos"
   ]
  },
  {
   "cell_type": "code",
   "execution_count": null,
   "metadata": {},
   "outputs": [],
   "source": [
    "        print('vector de potencias')\n",
    "        print(pot_signal)\n",
    "        print('posicion de los electrodos')\n",
    "        print(pos)\n",
    "        \n",
    "        return pot_signal, pos"
   ]
  },
  {
   "cell_type": "markdown",
   "metadata": {},
   "source": [
    "Por último el siguiente método es el encargado de realizar el topoplot utilizando el módulo mne"
   ]
  },
  {
   "cell_type": "code",
   "execution_count": null,
   "metadata": {},
   "outputs": [],
   "source": [
    "    def topoplot(self,rel,pos):\n",
    "        plt.title('topomap')\n",
    "        fig3 = plot_topomap(pot_signal, pos, cmap='jet', sensors='k.', names=channels_labels, show_names=False,\n",
    "                contours=0, image_interp='spline36')\n",
    "        return fig3"
   ]
  },
  {
   "cell_type": "code",
   "execution_count": null,
   "metadata": {},
   "outputs": [],
   "source": [
    "El siguiente es un código de ejemplo para el uso de la anterior función."
   ]
  },
  {
   "cell_type": "code",
   "execution_count": null,
   "metadata": {},
   "outputs": [],
   "source": [
    "if __name__ == '__main__':\n",
    "    archivo = 'sujeto_base.edf'\n",
    "    ob = edf_topoplot()\n",
    "    nch, edf,channels_labels, signal = ob.read_edf(archivo)\n",
    "    pot_signal, pos = ob.cal_topoplot(nch,elec,channels_labels, signal)\n",
    "    fig3 = ob.topoplot(pot_signal,pos)"
   ]
  }
 ],
 "metadata": {
  "kernelspec": {
   "display_name": "Python 3",
   "language": "python",
   "name": "python3"
  },
  "language_info": {
   "codemirror_mode": {
    "name": "ipython",
    "version": 3
   },
   "file_extension": ".py",
   "mimetype": "text/x-python",
   "name": "python",
   "nbconvert_exporter": "python",
   "pygments_lexer": "ipython3",
   "version": "3.6.5"
  }
 },
 "nbformat": 4,
 "nbformat_minor": 2
}
