{
 "cells": [
  {
   "cell_type": "markdown",
   "metadata": {},
   "source": [
    "# TOPOPLOT"
   ]
  },
  {
   "cell_type": "markdown",
   "metadata": {},
   "source": [
    "Script para el cálculo y visualización del topoplot de un paciente a partir de un archivo .edf"
   ]
  },
  {
   "cell_type": "markdown",
   "metadata": {},
   "source": [
    "## Resumen"
   ]
  },
  {
   "cell_type": "markdown",
   "metadata": {},
   "source": [
    "En este script se realizan los cálculos de la potencia de la señal, la ubicación de los electrodos de la medición según el modelo New York, para finalmente realizar el topoplot por medio de la biblioteca \"MNE\" [1]"
   ]
  },
  {
   "cell_type": "markdown",
   "metadata": {},
   "source": [
    "## Entradas"
   ]
  },
  {
   "cell_type": "markdown",
   "metadata": {},
   "source": [
    "Por medio de argparse se definen las siguientes entradas."
   ]
  },
  {
   "cell_type": "markdown",
   "metadata": {},
   "source": [
    "1) -i o --archivo: nombre del archivo .edf que desea utilizar, es de tipo str, ejemplo: -i sujeto_base.edf"
   ]
  },
  {
   "cell_type": "markdown",
   "metadata": {},
   "source": [
    "2) -o o --figure: nombre y dirección para guardar el topoplot, ejemplo -o pictures/figure"
   ]
  },
  {
   "cell_type": "markdown",
   "metadata": {},
   "source": [
    "3) -c o --config: nombre del archivo de configuración, éste debe incluir las siguientes dos variables: \n",
    "3.1) labels: de tipo lista, incluye el nombre de los electrodos según el modelo que se desea utilizar, por default se utiliza el modelo New York.\n",
    "3.2) elec: array con las coordenadas de los electrodos según el modelo que se desea utilizar, por default se utiliza el modelo New York. sus dimensiones son el número de electrodos x 2. Debe ser de la misma longitud de la cantidad de elementos de \"labels\"\n",
    "\n",
    "Ejemplo: -c config\n"
   ]
  },
  {
   "cell_type": "markdown",
   "metadata": {},
   "source": [
    "## Salidas"
   ]
  },
  {
   "cell_type": "markdown",
   "metadata": {},
   "source": [
    "1) fig: imagen con el topoplot para el archivo .edf"
   ]
  },
  {
   "cell_type": "markdown",
   "metadata": {},
   "source": [
    "## Código"
   ]
  },
  {
   "cell_type": "markdown",
   "metadata": {},
   "source": [
    "Como una breve descripción del código se puede decir que se comienza con la importación de todas las biliotecas necesarias, además de la definición de la clase general que incluye métodos comentados al principio de cada uno para cada sección del código. Finalmente se define el objeto y se realiza el llamado de los métodos."
   ]
  },
  {
   "cell_type": "code",
   "execution_count": null,
   "metadata": {},
   "outputs": [],
   "source": [
    "import numpy as np\n",
    "import argparse\n",
    "import pyedflib\n",
    "import scipy.io\n",
    "from scipy.spatial import Delaunay\n",
    "from scipy.interpolate import griddata\n",
    "import matplotlib.pyplot as plt\n",
    "from mne.viz import plot_topomap\n",
    "\n",
    "class edf_topoplot(object):\n",
    "\n",
    "\tdef __init__(self,):\n",
    "\t\tsuper(edf_topoplot, self).__init__()\n",
    "\n",
    "\tdef argparse(self):\n",
    "\t\tparser = argparse.ArgumentParser()\n",
    "\t\tparser.add_argument('-i','--archivo', \n",
    "\t\t\thelp='nombre del archivo .edf que desea utilizar',type = str)\n",
    "\t\tparser.add_argument('-o','--figure', \n",
    "\t\t\thelp='ingresa la direccion para guardar el topoplot')\n",
    "\t\tparser.add_argument('-c','--config',\n",
    "\t\t \thelp='nombre del archivo de configuracion. NOTA: el nombre de la variable debe ser elec')\n",
    "\t\tparsedargs = parser.parse_args()\n",
    "\t\tarc = parsedargs.archivo\n",
    "\t\toutput = parsedargs.figure\n",
    "\t\tconfig  = parsedargs.config\n",
    "\t\treturn arc, output, config\n",
    "\n",
    "\t#lee el archivo .edf y extrae la informacion principal\n",
    "\tdef read_edf(self,arc):\n",
    "\n",
    "\t\tedf = pyedflib.EdfReader(arc)#archivo edf\n",
    "\t\tchannels_labels = edf.getSignalLabels() #etiquetas de los canales\t\n",
    "\t\tnsig = edf.getNSamples()[0] #longitud de la toma\t\t\n",
    "\t\tnch  = edf.signals_in_file #numero de canales\t\t\n",
    "\t\tsignal = np.zeros((nch,nsig))\n",
    "\t\tfor x in range(nch):\n",
    "\t\t\tsignal[x,:] = edf.readSignal(x)\t\n",
    "\t\treturn signal,nch,channels_labels\n",
    "\n",
    "\t#calcula la potencia y las posiciones de los electrodos\n",
    "\tdef calc_power(self,signal):\n",
    "\t\tmagnitud = signal**2\t#magnitud\n",
    "\t\tpot_signal = np.mean(magnitud,axis=1) #potencia de la senal\n",
    "\t\t# print('vector de potencias')\n",
    "\t\t# print(pot_signal)\n",
    "\t\treturn pot_signal\n",
    "\n",
    "\tdef calc_positions(self,config,channels_labels,nch,pot_signal):\n",
    "\t\tconfig_file = __import__(config)\n",
    "\t\telec = config_file.elec \t\t#coordenadas de los electrodos de referencia\n",
    "\t\tlab_ref_list = config_file.labels\t#lista etiquetas de referencia\n",
    "\t\tlabel_ref_list = []\n",
    "\n",
    "\t\t#organiza la lista de etiquetas de referencia para ser comparada\n",
    "\t\tfor lab_ref in lab_ref_list:\n",
    "\t\t\tlabel_ref = lab_ref.upper()\n",
    "\t\t\tlabel_ref_list.append(label_ref)\n",
    "\t\tcount = 0\n",
    "\t\tcounter = -1\n",
    "\t\tpos = np.zeros(shape=(nch,2))\n",
    "\n",
    "\t\t#organiza la lista de etiquetas de la medicion para ser comparada\n",
    "\t\tfor lab in channels_labels:\n",
    "\t\t\tlabe = lab.upper()\n",
    "\t\t\tlabel1 = labe.find('-')\n",
    "\t\t\tlabel = labe[0:label1]\n",
    "\t\t\texist = label in label_ref_list\n",
    "\n",
    "\t\t\t#crea un np.ndarray con las coordenadas de los electrodos existentes en la medida\n",
    "\t\t\tif exist is True:\n",
    "\t\t\t\tpoint = label_ref_list.index(label)\n",
    "\t\t\t\tcoord = elec[point]\n",
    "\t\t\t\tpos[count,:] = coord\n",
    "\t\t\t\t# coord = np.asarray(coord)\n",
    "\t\t\tcount += 1\n",
    "\t\t\n",
    "\t\t#elimina los electrodos que no fueron encontrados en la lista de referencia\t\n",
    "\t\tfor coord in pos:\n",
    "\t\t\tcounter += 1\n",
    "\t\t\tcheck = np.array_equal(coord,[0.,0.])\n",
    "\t\t\tif check is True:\n",
    "\t\t\t\tpos = np.delete(pos,counter,0)\n",
    "\t\t\t\tpot_signal = np.delete(pot_signal,counter,0)\n",
    "\t\t\t\tcounter += -1\n",
    "\t\t# print('posicion de los nodos')\n",
    "\t\t# print(pos)\n",
    "\t\treturn pos,pot_signal,elec\n",
    "\n",
    "\t#elabora el topoplot\n",
    "\tdef topoplot(self,pot_signal,pos):\n",
    "\n",
    "\t\tplt.title('topomap')\n",
    "\t\tfig = plot_topomap(pot_signal, pos, cmap='jet', sensors='k.', names=channels_labels, show_names=False,\n",
    "\t\t\t\tcontours=0, image_interp='spline36' ,show = False)\n",
    "\t\t# plt.savefig(output)\n",
    "\t\tplt.show(fig)\n",
    "\t\treturn fig\n",
    "\n",
    "\tdef mesh(self,pos,elec):\n",
    "\t\t# malla de los electrodos de la muestra\n",
    "\t\ttri = Delaunay(pos)\n",
    "\t\tplt.triplot(pos[:,0], pos[:,1], tri.simplices)\n",
    "\t\tplt.plot(pos[:,0], pos[:,1], 'o')\n",
    "\t\tplt.show()\n",
    "\n",
    "\t\t# malla de los electrodos de New York Head Model\n",
    "\t\ttri = Delaunay(elec)\n",
    "\t\tplt.triplot(elec[:,0], elec[:,1], tri.simplices)\n",
    "\t\tplt.plot(elec[:,0], elec[:,1], 'o')\n",
    "\t\tplt.show()\n",
    "\n",
    "if __name__ == '__main__':\n",
    "\tob = edf_topoplot()\n",
    "\tarc,output,config = ob.argparse()\n",
    "\tsignal,nch,channels_labels = ob.read_edf(arc)\n",
    "\tpot_signal = ob.calc_power(signal)\n",
    "\tpos, pot_signal, elec= ob.calc_positions(config,channels_labels,nch,pot_signal)\n",
    "\tgrid, pos = ob.interpolation(pot_signal,pos,elec)\n",
    "\tfig = ob.topoplot(pot_signal,elec)\n",
    "\t_ = ob.mesh(pos,elec)\n",
    "\n",
    "\n",
    "\n",
    "\t#python topoplot.py -i sujeto_base.edf -o fig3 -c config"
   ]
  },
  {
   "cell_type": "markdown",
   "metadata": {},
   "source": [
    "## Bibliotecas utilizadas"
   ]
  },
  {
   "cell_type": "markdown",
   "metadata": {},
   "source": [
    "[1] MNE        http://www.martinos.org/mne/"
   ]
  },
  {
   "cell_type": "markdown",
   "metadata": {},
   "source": [
    "[2] pyedflib   http://pyedflib.readthedocs.io"
   ]
  },
  {
   "cell_type": "markdown",
   "metadata": {},
   "source": [
    "[3] Numpy      http://www.numpy.org/"
   ]
  },
  {
   "cell_type": "markdown",
   "metadata": {},
   "source": [
    "[4] Argparse   https://docs.python.org/3/library/argparse.html"
   ]
  },
  {
   "cell_type": "markdown",
   "metadata": {},
   "source": [
    "[5] Scipy      http://www.scipy.org"
   ]
  },
  {
   "cell_type": "markdown",
   "metadata": {},
   "source": [
    "[6] Matplotlib http://www.matplotlib.org"
   ]
  }
 ],
 "metadata": {
  "kernelspec": {
   "display_name": "Python 3",
   "language": "python",
   "name": "python3"
  },
  "language_info": {
   "codemirror_mode": {
    "name": "ipython",
    "version": 3
   },
   "file_extension": ".py",
   "mimetype": "text/x-python",
   "name": "python",
   "nbconvert_exporter": "python",
   "pygments_lexer": "ipython3",
   "version": "3.6.5"
  }
 },
 "nbformat": 4,
 "nbformat_minor": 2
}
